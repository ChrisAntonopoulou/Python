{
 "cells": [
  {
   "cell_type": "code",
   "execution_count": 1,
   "id": "e843df3e-be69-4600-aea6-855fe54c0933",
   "metadata": {},
   "outputs": [],
   "source": [
    "from typing import Tuple, List, Dict, Optional, Iterator\n",
    "from queue import PriorityQueue"
   ]
  },
  {
   "cell_type": "code",
   "execution_count": 3,
   "id": "46ccefb0-8115-446f-970e-11a2a78ca3c9",
   "metadata": {},
   "outputs": [],
   "source": [
    "GridLocation = Tuple[int, int]"
   ]
  },
  {
   "cell_type": "code",
   "execution_count": 31,
   "id": "e830d67e-9d0b-40c5-a632-574bf6cbfb3d",
   "metadata": {},
   "outputs": [],
   "source": [
    "class SquareGrid:\n",
    "    def __init__(self, width: int, height: int):\n",
    "        self.width = width\n",
    "        self.height = height\n",
    "        self.walls: List[GridLocation] = []\n",
    "\n",
    "    def isInBounds(self, location: GridLocation) -> bool:\n",
    "        \"\"\"Check if the location is within the grid bounds.\"\"\"\n",
    "        x, y = location\n",
    "        return 0 <= x < self.width and 0 <= y < self.height\n",
    "\n",
    "    def isPassable(self, location: GridLocation) -> bool:\n",
    "        \"\"\"Check if the location is passable (not a wall).\"\"\"\n",
    "        return location not in self.walls\n",
    "\n",
    "    def getNeighbors(self, location: GridLocation) -> Iterator[GridLocation]:\n",
    "        \"\"\"Get neighboring locations of the current location.\"\"\"\n",
    "        x, y = location\n",
    "        neighbors = [(x + 1, y), (x - 1, y), (x, y - 1), (x, y + 1)]  # East, West, North, South\n",
    "        # reverse for tie-breaking to avoid ugly paths\n",
    "        if (x + y) % 2 == 0:\n",
    "            neighbors.reverse()  # South, North, West, East\n",
    "        # filter neighbors to keep only those in bounds and passable\n",
    "        neighbors = filter(self.isInBounds, neighbors)\n",
    "        neighbors = filter(self.isPassable, neighbors)\n",
    "        return neighbors\n",
    "\n",
    "    def getCost(self, fromNode: GridLocation, toNode: GridLocation) -> int:\n",
    "        \"\"\"Get the movement cost between two nodes.\"\"\"\n",
    "        return 1  # Default movement cost\n"
   ]
  },
  {
   "cell_type": "code",
   "execution_count": 14,
   "id": "cbfbd3d4-6b45-4a0d-aef8-9fa68d0137d1",
   "metadata": {},
   "outputs": [],
   "source": [
    "def heuristic(a: GridLocation, b: GridLocation) -> float:\n",
    "     \"\"\"Calculate the Manhattan distance as the heuristic.\"\"\"\n",
    "     x1, y1 = a\n",
    "     x2, y2 = b\n",
    "     return abs(x1 - x2) + abs(y1 - y2)"
   ]
  },
  {
   "cell_type": "code",
   "execution_count": 33,
   "id": "390bc34d-504a-4501-9b97-ea505899b822",
   "metadata": {},
   "outputs": [],
   "source": [
    "def aStarSearch(grid: SquareGrid, start: GridLocation, goal: GridLocation):\n",
    "    \"\"\"Perform the A* Search algorithm.\"\"\"\n",
    "    frontier = PriorityQueue()  # priority queue to manage the frontier\n",
    "    frontier.put((0, start))  # (priority, location)\n",
    "\n",
    "    cameFrom: Dict[GridLocation, Optional[GridLocation]] = {}\n",
    "    costSoFar: Dict[GridLocation, float] = {}\n",
    "\n",
    "    cameFrom[start] = None\n",
    "    costSoFar[start] = 0\n",
    "\n",
    "    while not frontier.empty():\n",
    "        _, current = frontier.get()\n",
    "\n",
    "        if current == goal:\n",
    "            break\n",
    "\n",
    "        for neighbor in grid.getNeighbors(current):\n",
    "            newCost = costSoFar[current] + grid.getCost(current, neighbor)\n",
    "            if neighbor not in costSoFar or newCost < costSoFar[neighbor]:\n",
    "                costSoFar[neighbor] = newCost\n",
    "                priority = newCost + heuristic(neighbor, goal)\n",
    "                frontier.put((priority, neighbor))\n",
    "                cameFrom[neighbor] = current\n",
    "\n",
    "    return cameFrom, costSoFar\n"
   ]
  },
  {
   "cell_type": "code",
   "execution_count": 19,
   "id": "25e02a1e-2b2b-4325-9575-9d2048daf34a",
   "metadata": {},
   "outputs": [],
   "source": [
    "def reconstructPath(cameFrom: Dict[GridLocation, GridLocation], \n",
    " start: GridLocation, goal: GridLocation) -> List[GridLocation]:\n",
    "     \"\"\"Reconstruct the path from start to goal.\"\"\"\n",
    "     current = goal\n",
    "     path = []\n",
    "     while current != start:\n",
    "         path.append(current)\n",
    "         current = cameFrom[current]\n",
    "         path.append(start)\n",
    "         path.reverse()\n",
    "     return path"
   ]
  },
  {
   "cell_type": "code",
   "execution_count": 35,
   "id": "c149f133-4f8c-4c9b-b3af-6e75a5e789a4",
   "metadata": {},
   "outputs": [],
   "source": [
    "def drawGrid(grid: SquareGrid, path: List[GridLocation] = None, directions: Dict[GridLocation, GridLocation] = None, start: GridLocation = None, goal: GridLocation = None):\n",
    "    \"\"\"Visualize the grid.\"\"\"\n",
    "    for y in range(grid.height):\n",
    "        for x in range(grid.width):\n",
    "            location = (x, y)\n",
    "            if location == start:\n",
    "                print(\"S\", end=\" \")  # start point\n",
    "            elif location == goal:\n",
    "                print(\"E\", end=\" \")  # end point\n",
    "            elif location in grid.walls:\n",
    "                print(\"|\", end=\" \")  # wall\n",
    "            elif path and location in path:\n",
    "                print(\"*\", end=\" \")  # path\n",
    "            elif directions and location in directions:\n",
    "                dx, dy = directions[location][0] - x, directions[location][1] - y\n",
    "                if dx == 1:\n",
    "                    print(\">\", end=\" \")\n",
    "                elif dx == -1:\n",
    "                    print(\"<\", end=\" \")\n",
    "                elif dy == 1:\n",
    "                    print(\"v\", end=\" \")\n",
    "                elif dy == -1:\n",
    "                    print(\"^\", end=\" \")\n",
    "            else:\n",
    "                print(\".\", end=\" \")  # Empty space\n",
    "        print()\n",
    "\n"
   ]
  },
  {
   "cell_type": "code",
   "execution_count": 37,
   "id": "0a481feb-b014-4a88-9aca-f2f4bc4ec95d",
   "metadata": {},
   "outputs": [
    {
     "name": "stdout",
     "output_type": "stream",
     "text": [
      "Grid with path:\n",
      "* . . . . . . . . . \n",
      "* . . . . . . . . . \n",
      "* . . . . . . | | | \n",
      "* * . | . . . . . . \n",
      "| * * * * . . . . . \n",
      ". . . | * . . . . . \n",
      ". . . | * * * . . . \n",
      ". | | | | | * . . . \n",
      ". . . . . . * . . . \n",
      ". . . . . . * * * * \n",
      "\n",
      "Grid with directions:\n",
      "S < < < < < < < < < \n",
      "^ < < < < < < < < < \n",
      "^ < < < < < < | | | \n",
      "^ < < | ^ < < < < < \n",
      "| ^ < < < < < < < < \n",
      "> ^ < | ^ < < < < < \n",
      "> ^ < | ^ < < < < < \n",
      ". | | | | | ^ < < < \n",
      ". . . . . > ^ < < < \n",
      ". . . . . > ^ < < E \n"
     ]
    }
   ],
   "source": [
    "#set up the grid\n",
    "grid = SquareGrid(10, 10)\n",
    "grid.walls = [\n",
    " (1, 7), (2, 7), (3, 3), (3, 7), (4, 7), (0, 4), (5, 7), \n",
    " (3, 6), (3, 5), (7, 2), (8, 2), (9, 2)\n",
    "]\n",
    "\n",
    "#start and goal points\n",
    "start, goal = (0, 0), (9, 9)\n",
    "\n",
    "#perform A* search\n",
    "cameFrom, costSoFar = aStarSearch(grid, start, goal)\n",
    "\n",
    "#visualize the results\n",
    "print(\"Grid with path:\")\n",
    "path = reconstructPath(cameFrom, start, goal)\n",
    "drawGrid(grid, path=path)\n",
    "\n",
    "print(\"\\nGrid with directions:\")\n",
    "drawGrid(grid, directions=cameFrom, start=start, goal=goal)"
   ]
  }
 ],
 "metadata": {
  "kernelspec": {
   "display_name": "Python 3 (ipykernel)",
   "language": "python",
   "name": "python3"
  },
  "language_info": {
   "codemirror_mode": {
    "name": "ipython",
    "version": 3
   },
   "file_extension": ".py",
   "mimetype": "text/x-python",
   "name": "python",
   "nbconvert_exporter": "python",
   "pygments_lexer": "ipython3",
   "version": "3.12.4"
  }
 },
 "nbformat": 4,
 "nbformat_minor": 5
}
