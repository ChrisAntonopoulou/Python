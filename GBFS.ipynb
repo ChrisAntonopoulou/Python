{
 "cells": [
  {
   "cell_type": "code",
   "execution_count": 11,
   "id": "d0fea5fd-60bd-4926-b528-ddb22033b142",
   "metadata": {},
   "outputs": [],
   "source": [
    "from queue import PriorityQueue"
   ]
  },
  {
   "cell_type": "code",
   "execution_count": 13,
   "id": "493effd5-b6c3-42cd-8eaf-3574a1d01efe",
   "metadata": {},
   "outputs": [],
   "source": [
    "def greedy_best_first_search(start, goal, heuristic, graph):\n",
    "    open_list = PriorityQueue()\n",
    "    open_list.put((heuristic[start], start))\n",
    "    visited = set()\n",
    "    came_from = {}\n",
    "    g = {start: 0}  # Stores the cost from start to the current node\n",
    "\n",
    "    while not open_list.empty():\n",
    "        cost, current = open_list.get()\n",
    "\n",
    "        if current == goal:\n",
    "            path = []\n",
    "            total_cost = g[goal]\n",
    "            while current in came_from:\n",
    "                path.append(current)\n",
    "                current = came_from[current]\n",
    "            path.append(start)\n",
    "            path.reverse()\n",
    "            return path, total_cost\n",
    "\n",
    "        visited.add(current)\n",
    "\n",
    "        for neighbor, weight in graph.get(current, []):\n",
    "            if neighbor not in visited:\n",
    "                came_from[neighbor] = current\n",
    "                g[neighbor] = g[current] + weight\n",
    "                open_list.put((heuristic[neighbor], neighbor))\n",
    "\n",
    "    return None"
   ]
  },
  {
   "cell_type": "code",
   "execution_count": 15,
   "id": "6ff09e73-1c59-4097-bd9b-f3b54a2debec",
   "metadata": {},
   "outputs": [
    {
     "name": "stdout",
     "output_type": "stream",
     "text": [
      "Path found: ['A', 'B', 'D', 'E', 'G', 'H']\n",
      "Total cost: 13\n"
     ]
    }
   ],
   "source": [
    "# Example graph\n",
    "graph = {\n",
    "    'A': [('B', 3), ('C', 3)],\n",
    "    'B': [('D', 2)],\n",
    "    'C': [('F', 3)],\n",
    "    'D': [('E', 4)],\n",
    "    'E': [('F', 1), ('G', 2)],\n",
    "    'F': [('G', 3)],\n",
    "    'G': [('H', 2)],\n",
    "    'H': []\n",
    "}\n",
    "\n",
    "heuristic = {\n",
    "    'A': 5,\n",
    "    'B': 6,\n",
    "    'C': 8,\n",
    "    'D': 4,\n",
    "    'E': 4,\n",
    "    'F': 5,\n",
    "    'G': 2,\n",
    "    'H': 0\n",
    "}\n",
    "\n",
    "start_state, goal_state = 'A', 'H'\n",
    "result = greedy_best_first_search(start_state, goal_state, heuristic, graph)\n",
    "if result:\n",
    "    print(\"Path found:\", result[0])\n",
    "    print(\"Total cost:\", result[1])\n",
    "else:\n",
    "    print(\"Path not found!\")\n"
   ]
  }
 ],
 "metadata": {
  "kernelspec": {
   "display_name": "Python 3 (ipykernel)",
   "language": "python",
   "name": "python3"
  },
  "language_info": {
   "codemirror_mode": {
    "name": "ipython",
    "version": 3
   },
   "file_extension": ".py",
   "mimetype": "text/x-python",
   "name": "python",
   "nbconvert_exporter": "python",
   "pygments_lexer": "ipython3",
   "version": "3.12.4"
  }
 },
 "nbformat": 4,
 "nbformat_minor": 5
}
